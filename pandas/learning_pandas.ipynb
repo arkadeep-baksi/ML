{
 "cells": [
  {
   "cell_type": "markdown",
   "id": "0c95259f",
   "metadata": {},
   "source": [
    "# Pandas Overview\n",
    "- The pandas library provides high-performance, easy-to-use data structures and data analysis tools. The main data structure is the DataFrame, which you can think of as an in-memory 2D table (like a spreadsheet, with column names and row labels).\n",
    "\n",
    "- Many features available in Excel are available programmatically, such as creating pivot tables, computing columns based on other columns, plotting graphs, etc. You can also group rows by column value, or join tables much like in SQL. Pandas is also great at handling time series data."
   ]
  },
  {
   "cell_type": "code",
   "execution_count": 1,
   "id": "848c106a",
   "metadata": {},
   "outputs": [],
   "source": [
    "import pandas as pd"
   ]
  },
  {
   "cell_type": "markdown",
   "id": "ce76e6d2",
   "metadata": {},
   "source": [
    "## Pandas is Column-major\n",
    "An important thing to know about pandas is that it is column-major, which explains many of its quirks.\n",
    "\n",
    "- Column-major means consecutive elements in a column are stored next to each other in memory. Row-major means the same but for elements in a row. Because modern computers process sequential data more efficiently than non-sequential data, if a table is row-major, accessing its rows will be much faster than accessing its columns.\n",
    "- In NumPy, major order can be specified. When a ndarray is created, it’s row-major by default if you don’t specify the order.\n",
    "- Like R’s Data Frame, pandas’ DataFrame is column-major. People coming to pandas from NumPy tend to treat DataFrame the way they would ndarray, e.g. trying to access data by rows, and find DataFrame slow.\n",
    "- Note: A column in a DataFrame is a Series. You can think of a DataFrame as a bunch of Series being stored next to each other in memory.\n",
    "- For our dataset, accessing a row takes about 50x longer than accessing a column in our DataFrame."
   ]
  },
  {
   "cell_type": "code",
   "execution_count": 2,
   "id": "6e36969b",
   "metadata": {},
   "outputs": [
    {
     "name": "stdout",
     "output_type": "stream",
     "text": [
      "(17654, 10)\n"
     ]
    },
    {
     "data": {
      "text/html": [
       "<div>\n",
       "<style scoped>\n",
       "    .dataframe tbody tr th:only-of-type {\n",
       "        vertical-align: middle;\n",
       "    }\n",
       "\n",
       "    .dataframe tbody tr th {\n",
       "        vertical-align: top;\n",
       "    }\n",
       "\n",
       "    .dataframe thead th {\n",
       "        text-align: right;\n",
       "    }\n",
       "</style>\n",
       "<table border=\"1\" class=\"dataframe\">\n",
       "  <thead>\n",
       "    <tr style=\"text-align: right;\">\n",
       "      <th></th>\n",
       "      <th>Company</th>\n",
       "      <th>Title</th>\n",
       "      <th>Job</th>\n",
       "      <th>Level</th>\n",
       "      <th>Date</th>\n",
       "      <th>Upvotes</th>\n",
       "      <th>Offer</th>\n",
       "      <th>Experience</th>\n",
       "      <th>Difficulty</th>\n",
       "      <th>Review</th>\n",
       "    </tr>\n",
       "  </thead>\n",
       "  <tbody>\n",
       "    <tr>\n",
       "      <th>0</th>\n",
       "      <td>Apple</td>\n",
       "      <td>Software Engineer</td>\n",
       "      <td>Software Engineer</td>\n",
       "      <td>Engineer</td>\n",
       "      <td>Aug 7, 2019</td>\n",
       "      <td>0</td>\n",
       "      <td>No offer</td>\n",
       "      <td>0.0</td>\n",
       "      <td>Medium</td>\n",
       "      <td>Application  I applied through a staffing agen...</td>\n",
       "    </tr>\n",
       "    <tr>\n",
       "      <th>1</th>\n",
       "      <td>Apple</td>\n",
       "      <td>Software Engineer</td>\n",
       "      <td>Software Engineer</td>\n",
       "      <td>Engineer</td>\n",
       "      <td>Aug 8, 2019</td>\n",
       "      <td>0</td>\n",
       "      <td>Accepted offer</td>\n",
       "      <td>1.0</td>\n",
       "      <td>Hard</td>\n",
       "      <td>Application  I applied online. The process too...</td>\n",
       "    </tr>\n",
       "    <tr>\n",
       "      <th>2</th>\n",
       "      <td>Apple</td>\n",
       "      <td>Software Engineer</td>\n",
       "      <td>Software Engineer</td>\n",
       "      <td>Engineer</td>\n",
       "      <td>NaN</td>\n",
       "      <td>0</td>\n",
       "      <td>Declined offer</td>\n",
       "      <td>0.0</td>\n",
       "      <td>Medium</td>\n",
       "      <td>Application  The process took 4 weeks. I inter...</td>\n",
       "    </tr>\n",
       "    <tr>\n",
       "      <th>3</th>\n",
       "      <td>Apple</td>\n",
       "      <td>Software Engineer</td>\n",
       "      <td>Software Engineer</td>\n",
       "      <td>Engineer</td>\n",
       "      <td>NaN</td>\n",
       "      <td>9</td>\n",
       "      <td>Declined offer</td>\n",
       "      <td>-1.0</td>\n",
       "      <td>Medium</td>\n",
       "      <td>Application  The process took a week. I interv...</td>\n",
       "    </tr>\n",
       "    <tr>\n",
       "      <th>4</th>\n",
       "      <td>Apple</td>\n",
       "      <td>Software Engineer</td>\n",
       "      <td>Software Engineer</td>\n",
       "      <td>Engineer</td>\n",
       "      <td>May 29, 2009</td>\n",
       "      <td>2</td>\n",
       "      <td>No offer</td>\n",
       "      <td>0.0</td>\n",
       "      <td>Medium</td>\n",
       "      <td>Application  I applied through an employee ref...</td>\n",
       "    </tr>\n",
       "  </tbody>\n",
       "</table>\n",
       "</div>"
      ],
      "text/plain": [
       "  Company              Title                Job     Level          Date  \\\n",
       "0   Apple  Software Engineer  Software Engineer  Engineer   Aug 7, 2019   \n",
       "1   Apple  Software Engineer  Software Engineer  Engineer   Aug 8, 2019   \n",
       "2   Apple  Software Engineer  Software Engineer  Engineer           NaN   \n",
       "3   Apple  Software Engineer  Software Engineer  Engineer           NaN   \n",
       "4   Apple  Software Engineer  Software Engineer  Engineer  May 29, 2009   \n",
       "\n",
       "   Upvotes           Offer  Experience Difficulty  \\\n",
       "0        0        No offer         0.0     Medium   \n",
       "1        0  Accepted offer         1.0       Hard   \n",
       "2        0  Declined offer         0.0     Medium   \n",
       "3        9  Declined offer        -1.0     Medium   \n",
       "4        2        No offer         0.0     Medium   \n",
       "\n",
       "                                              Review  \n",
       "0  Application  I applied through a staffing agen...  \n",
       "1  Application  I applied online. The process too...  \n",
       "2  Application  The process took 4 weeks. I inter...  \n",
       "3  Application  The process took a week. I interv...  \n",
       "4  Application  I applied through an employee ref...  "
      ]
     },
     "execution_count": 2,
     "metadata": {},
     "output_type": "execute_result"
    }
   ],
   "source": [
    "df = pd.read_csv(\"data/interviews.csv\")\n",
    "\n",
    "print(df.shape)\n",
    "df.head()"
   ]
  },
  {
   "cell_type": "code",
   "execution_count": 3,
   "id": "0e188f74",
   "metadata": {},
   "outputs": [
    {
     "name": "stdout",
     "output_type": "stream",
     "text": [
      "1.39 µs ± 110 ns per loop (mean ± std. dev. of 7 runs, 1000 loops each)\n",
      "107 µs ± 2.49 µs per loop (mean ± std. dev. of 7 runs, 1000 loops each)\n"
     ]
    }
   ],
   "source": [
    "# Get the column `date`, 1000 loops\n",
    "%timeit -n1000 df[\"Date\"]\n",
    "\n",
    "# Get the first row, 1000 loops\n",
    "%timeit -n1000 df.iloc[0]"
   ]
  },
  {
   "cell_type": "code",
   "execution_count": null,
   "id": "aaecc56e",
   "metadata": {},
   "outputs": [],
   "source": []
  }
 ],
 "metadata": {
  "kernelspec": {
   "display_name": "Python 3",
   "language": "python",
   "name": "python3"
  },
  "language_info": {
   "codemirror_mode": {
    "name": "ipython",
    "version": 3
   },
   "file_extension": ".py",
   "mimetype": "text/x-python",
   "name": "python",
   "nbconvert_exporter": "python",
   "pygments_lexer": "ipython3",
   "version": "3.7.10"
  }
 },
 "nbformat": 4,
 "nbformat_minor": 5
}
