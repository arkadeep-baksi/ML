{
 "cells": [
  {
   "cell_type": "markdown",
   "id": "fc2e35ff",
   "metadata": {},
   "source": [
    "# Building WaveNet"
   ]
  },
  {
   "cell_type": "markdown",
   "id": "587a8dd2",
   "metadata": {},
   "source": [
    "### Importing necessary libraries"
   ]
  },
  {
   "cell_type": "code",
   "execution_count": 1,
   "id": "2ad3e153",
   "metadata": {},
   "outputs": [],
   "source": [
    "import random\n",
    "import torch\n",
    "import torch.nn.functional as F\n",
    "import matplotlib.pyplot as plt # for making figures\n",
    "%matplotlib inline"
   ]
  },
  {
   "cell_type": "markdown",
   "id": "744b97e3",
   "metadata": {},
   "source": [
    "### Reading the data"
   ]
  },
  {
   "cell_type": "code",
   "execution_count": 4,
   "id": "d129a749",
   "metadata": {},
   "outputs": [
    {
     "name": "stdout",
     "output_type": "stream",
     "text": [
      "32033\n",
      "15\n",
      "['emma', 'olivia', 'ava', 'isabella', 'sophia', 'charlotte', 'mia', 'amelia']\n"
     ]
    }
   ],
   "source": [
    "# read in all the words\n",
    "words = open('./data/names.txt', 'r').read().splitlines()\n",
    "print(len(words))\n",
    "print(max(len(w) for w in words))\n",
    "print(words[:8])"
   ]
  },
  {
   "cell_type": "markdown",
   "id": "c529d303",
   "metadata": {},
   "source": [
    "### Building the Vocabulory"
   ]
  },
  {
   "cell_type": "code",
   "execution_count": 5,
   "id": "067c01e3",
   "metadata": {},
   "outputs": [
    {
     "name": "stdout",
     "output_type": "stream",
     "text": [
      "{1: 'a', 2: 'b', 3: 'c', 4: 'd', 5: 'e', 6: 'f', 7: 'g', 8: 'h', 9: 'i', 10: 'j', 11: 'k', 12: 'l', 13: 'm', 14: 'n', 15: 'o', 16: 'p', 17: 'q', 18: 'r', 19: 's', 20: 't', 21: 'u', 22: 'v', 23: 'w', 24: 'x', 25: 'y', 26: 'z', 0: '.'}\n",
      "27\n"
     ]
    }
   ],
   "source": [
    "# build the vocabulary of characters and mappings to/from integers\n",
    "chars = sorted(list(set(''.join(words))))\n",
    "stoi = {s:i+1 for i,s in enumerate(chars)}\n",
    "stoi['.'] = 0\n",
    "itos = {i:s for s,i in stoi.items()}\n",
    "vocab_size = len(itos)\n",
    "print(itos)\n",
    "print(vocab_size)"
   ]
  },
  {
   "cell_type": "code",
   "execution_count": 6,
   "id": "e08d3ea6",
   "metadata": {},
   "outputs": [],
   "source": [
    "## Shuffle the words\n",
    "\n",
    "random.seed(42)\n",
    "random.shuffle(words)"
   ]
  },
  {
   "cell_type": "markdown",
   "id": "56ad8c25",
   "metadata": {},
   "source": [
    "### Building the dataset"
   ]
  },
  {
   "cell_type": "code",
   "execution_count": 9,
   "id": "835feb1a",
   "metadata": {},
   "outputs": [],
   "source": [
    "# build the dataset\n",
    "block_size = 8 # context length: how many characters do we take to predict the next one?\n",
    "\n",
    "def build_dataset(words):\n",
    "    \n",
    "    X, Y = [], []\n",
    "    for w in words:\n",
    "        context = [0]*block_size\n",
    "        for ch in w+'.':\n",
    "            ix = stoi[ch]\n",
    "            X.append(context)\n",
    "            Y.append(ix)\n",
    "            context = context[1:]+[ix] # Crop and Append\n",
    "            \n",
    "    X, Y = torch.tensor(X), torch.tensor(Y)\n",
    "    print(X.shape, Y.shape)\n",
    "    return X,Y      "
   ]
  },
  {
   "cell_type": "code",
   "execution_count": 10,
   "id": "f24b4e98",
   "metadata": {},
   "outputs": [
    {
     "name": "stdout",
     "output_type": "stream",
     "text": [
      "torch.Size([182625, 8]) torch.Size([182625])\n",
      "torch.Size([22655, 8]) torch.Size([22655])\n",
      "torch.Size([22866, 8]) torch.Size([22866])\n"
     ]
    }
   ],
   "source": [
    "n1 = int(0.8*len(words))\n",
    "n2 = int(0.9*len(words))\n",
    "Xtr,  Ytr  = build_dataset(words[:n1])     # 80%\n",
    "Xdev, Ydev = build_dataset(words[n1:n2])   # 10%\n",
    "Xte,  Yte  = build_dataset(words[n2:])     # 10%"
   ]
  },
  {
   "cell_type": "code",
   "execution_count": 11,
   "id": "bbcb3c5a",
   "metadata": {},
   "outputs": [
    {
     "name": "stdout",
     "output_type": "stream",
     "text": [
      "........ --> y\n",
      ".......y --> u\n",
      "......yu --> h\n",
      ".....yuh --> e\n",
      "....yuhe --> n\n",
      "...yuhen --> g\n",
      "..yuheng --> .\n",
      "........ --> d\n",
      ".......d --> i\n",
      "......di --> o\n",
      ".....dio --> n\n",
      "....dion --> d\n",
      "...diond --> r\n",
      "..diondr --> e\n",
      ".diondre --> .\n",
      "........ --> x\n",
      ".......x --> a\n",
      "......xa --> v\n",
      ".....xav --> i\n",
      "....xavi --> e\n"
     ]
    }
   ],
   "source": [
    "for x,y in zip(Xtr[:20], Ytr[:20]):\n",
    "    print(''.join(itos[ix.item()] for ix in x), '-->', itos[y.item()])"
   ]
  },
  {
   "cell_type": "markdown",
   "id": "0f09ffe5",
   "metadata": {},
   "source": [
    "### Developing the MLP Layers: Similar to Pytorch"
   ]
  },
  {
   "cell_type": "code",
   "execution_count": 53,
   "id": "15de5c34",
   "metadata": {},
   "outputs": [],
   "source": [
    "## Define the Linear Layer\n",
    "# -----------------------------------------------------------------------------------------------\n",
    "\n",
    "class Linear:\n",
    "    \n",
    "    def __init__(self, fan_in : int, fan_out : int, bias : bool = True):\n",
    "        self.weight = torch.randn((fan_in, fan_out))/fan_in**0.5 # note: kaiming init\n",
    "        self.bias = torch.zeros(fan_out) if bias else None\n",
    "    \n",
    "    ## Calculating the Forward Pass\n",
    "    def __call__(self, x):\n",
    "        \n",
    "        self.out = x @ self.weight\n",
    "        if self.bias is not None:\n",
    "            self.out += self.bias\n",
    "        return self.out\n",
    "        \n",
    "    def parameters(self):\n",
    "        \n",
    "        return [self.weight] + ([] if self.bias is None else [self.bias])\n",
    "    \n",
    "## Define the BatchNorm Layer\n",
    "# -----------------------------------------------------------------------------------------------\n",
    "\n",
    "class BatchNorm1d:\n",
    "    \n",
    "    def __init__(self, dim, eps=1e-5, momentum=0.1):\n",
    "        \n",
    "        self.eps = eps\n",
    "        self.momentum = momentum # Factor the weight of the contribution of running mean\n",
    "        self.training = True # Similar to pytorch\n",
    "        # parameters (trained with backprop)\n",
    "        self.gamma = torch.ones(dim)\n",
    "        self.beta = torch.zeros(dim)\n",
    "        # buffers (trained with a running 'momentum update')\n",
    "        self.running_mean = torch.zeros(dim)\n",
    "        self.running_var = torch.ones(dim)\n",
    "        \n",
    "    def __call__(self, x):\n",
    "        \n",
    "        ## Calutaing the Forward Pass\n",
    "        if self.training:\n",
    "            \n",
    "#             if x.ndim == 2:\n",
    "#                 dim = 0\n",
    "#             elif x.ndim == 3:\n",
    "#                 dim = (0,1)\n",
    "            \n",
    "            xmean = x.mean(0, keepdims = True)\n",
    "            xvar = x.var(0, keepdims = True)\n",
    "        else:\n",
    "            xmean, xvar = self.running_mean, self.running_var\n",
    "        \n",
    "        xhat = (x-xmean)/torch.sqrt(xvar + self.eps)\n",
    "        self.out = self.gamma*xhat + self.beta\n",
    "        \n",
    "        if self.training:\n",
    "            ## No need to backprop through running_mean or running_var\n",
    "            with torch.no_grad():\n",
    "                self.running_mean = (1-self.momentum)*self.running_mean + self.momentum*xmean\n",
    "                self.running_var = (1-self.momentum)*self.running_var + self.momentum*xvar\n",
    "                \n",
    "        return self.out\n",
    "        \n",
    "    def parameters(self):\n",
    "        \n",
    "        return [self.gamma, self.beta]\n",
    "    \n",
    "\n",
    "## Define the Embedding Layer\n",
    "# -----------------------------------------------------------------------------------------------\n",
    "\n",
    "class Embedding:\n",
    "    \n",
    "    def __init__(self, num_embeddings, embedding_dim):\n",
    "        \n",
    "        self.weight = torch.randn((num_embeddings, embedding_dim))\n",
    "    \n",
    "    def __call__(self, IX):\n",
    "        \n",
    "        self.out = self.weight[IX]\n",
    "        return self.out\n",
    "    \n",
    "    def parameters(self):\n",
    "        \n",
    "        return [self.weight]\n",
    "    \n",
    "\n",
    "## Define the Sequential Class : Multiple linear layers stacked together\n",
    "# -----------------------------------------------------------------------------------------------\n",
    "\n",
    "class Sequential:\n",
    "    \n",
    "    def __init__(self, layers):\n",
    "        \n",
    "        self.layers = layers\n",
    "        \n",
    "    def __call__(self, x):\n",
    "        \n",
    "        for layer in self.layers:\n",
    "            x = layer(x)\n",
    "            \n",
    "        self.out = x\n",
    "        return self.out\n",
    "    \n",
    "    def parameters(self):\n",
    "        \n",
    "        return [p for layer in self.layers for p in layer.parameters()]\n",
    "    \n",
    "## Define the Tanh Layer\n",
    "# -----------------------------------------------------------------------------------------------\n",
    "\n",
    "class Tanh:\n",
    "    \n",
    "    def __call__(self, x):\n",
    "        self.out = torch.tanh(x)\n",
    "        return self.out\n",
    "    \n",
    "    def parameters(self):\n",
    "        return []\n",
    "        "
   ]
  },
  {
   "cell_type": "markdown",
   "id": "c209e10f",
   "metadata": {},
   "source": [
    "### Setting the seed"
   ]
  },
  {
   "cell_type": "code",
   "execution_count": 55,
   "id": "21598c28",
   "metadata": {},
   "outputs": [
    {
     "data": {
      "text/plain": [
       "<torch._C.Generator at 0x218847983f0>"
      ]
     },
     "execution_count": 55,
     "metadata": {},
     "output_type": "execute_result"
    }
   ],
   "source": [
    "torch.manual_seed(42)"
   ]
  },
  {
   "cell_type": "markdown",
   "id": "4d5d8a41",
   "metadata": {},
   "source": [
    "### Defining a Network"
   ]
  },
  {
   "cell_type": "code",
   "execution_count": 56,
   "id": "d1d8435f",
   "metadata": {},
   "outputs": [
    {
     "name": "stdout",
     "output_type": "stream",
     "text": [
      "22097\n"
     ]
    }
   ],
   "source": [
    "n_embd, n_hidden = 10, 200\n",
    "C = torch.randn((vocab_size, n_embd))\n",
    "\n",
    "layers = [Linear((n_embd*block_size), n_hidden, bias = False), BatchNorm1d(n_hidden), Tanh(), Linear(n_hidden, vocab_size, bias = True),]\n",
    "\n",
    "# Make the last Softmax Layer less Confident\n",
    "with torch.no_grad():\n",
    "    layers[-1].weight *= 0.1\n",
    "    \n",
    "parameters = [C] + [p for layer in layers for p in layer.parameters()]\n",
    "print(sum(p.nelement() for p in parameters))\n",
    "\n",
    "## Setting requires_grad\n",
    "for p in parameters:\n",
    "    p.requires_grad = True\n",
    "    \n"
   ]
  },
  {
   "cell_type": "markdown",
   "id": "e78dc16f",
   "metadata": {},
   "source": [
    "### Training the network"
   ]
  },
  {
   "cell_type": "code",
   "execution_count": 57,
   "id": "97555d8c",
   "metadata": {},
   "outputs": [
    {
     "name": "stdout",
     "output_type": "stream",
     "text": [
      "      0/ 200000: 3.2847\n",
      "  10000/ 200000: 2.0647\n",
      "  20000/ 200000: 1.9722\n",
      "  30000/ 200000: 2.0948\n",
      "  40000/ 200000: 1.9738\n",
      "  50000/ 200000: 2.1287\n",
      "  60000/ 200000: 2.3574\n",
      "  70000/ 200000: 1.9131\n",
      "  80000/ 200000: 2.0735\n",
      "  90000/ 200000: 2.0968\n",
      " 100000/ 200000: 1.4963\n",
      " 110000/ 200000: 2.1294\n",
      " 120000/ 200000: 2.2324\n",
      " 130000/ 200000: 2.2071\n",
      " 140000/ 200000: 2.2326\n",
      " 150000/ 200000: 1.8908\n",
      " 160000/ 200000: 1.6867\n",
      " 170000/ 200000: 2.0968\n",
      " 180000/ 200000: 1.7824\n",
      " 190000/ 200000: 1.9151\n"
     ]
    }
   ],
   "source": [
    "# same optimization as last time\n",
    "max_steps = 200000\n",
    "batch_size = 32\n",
    "lossi = []\n",
    "\n",
    "for i in range(max_steps):\n",
    "    \n",
    "    # Construct the mini-batch\n",
    "    ix = torch.randint(0, Xtr.shape[0], (batch_size,))\n",
    "    Xb, Yb = Xtr[ix], Ytr[ix]\n",
    "    \n",
    "    #Forward pass\n",
    "    emb = C[Xb] # embedd the characters into vectors\n",
    "    x = emb.view(emb.shape[0], -1) # changing the dimensions for matrix multiplication\n",
    "    for layer in layers:\n",
    "        x = layer(x)\n",
    "    loss = F.cross_entropy(x, Yb) # loss\n",
    "    \n",
    "    #Backward Pass\n",
    "    for p in parameters:\n",
    "        p.grad = None\n",
    "    loss.backward()\n",
    "    \n",
    "    # update: simple SGD\n",
    "    lr = 0.1 if i < 150000 else 0.01 # step learning rate decay\n",
    "    for p in parameters:\n",
    "        p.data += -lr * p.grad\n",
    "\n",
    "    # track stats\n",
    "    if i % 10000 == 0: # print every once in a while\n",
    "        print(f'{i:7d}/{max_steps:7d}: {loss.item():.4f}')\n",
    "    lossi.append(loss.log10().item())\n",
    "    \n",
    "    "
   ]
  },
  {
   "cell_type": "code",
   "execution_count": 58,
   "id": "d86407ec",
   "metadata": {},
   "outputs": [
    {
     "data": {
      "text/plain": [
       "[<matplotlib.lines.Line2D at 0x218917038c8>]"
      ]
     },
     "execution_count": 58,
     "metadata": {},
     "output_type": "execute_result"
    },
    {
     "data": {
      "image/png": "[encoded data removed]",
      "text/plain": [
       "<Figure size 432x288 with 1 Axes>"
      ]
     },
     "metadata": {
      "needs_background": "light"
     },
     "output_type": "display_data"
    }
   ],
   "source": [
    "plt.plot(lossi)"
   ]
  },
  {
   "cell_type": "markdown",
   "id": "286075c5",
   "metadata": {},
   "source": [
    "##### Viewing the loss in a better way"
   ]
  },
  {
   "cell_type": "code",
   "execution_count": 68,
   "id": "ef1f85b2",
   "metadata": {},
   "outputs": [
    {
     "data": {
      "text/plain": [
       "[<matplotlib.lines.Line2D at 0x218917a4248>]"
      ]
     },
     "execution_count": 68,
     "metadata": {},
     "output_type": "execute_result"
    },
    {
     "data": {
      "image/png": "[encoded data removed]",
      "text/plain": [
       "<Figure size 432x288 with 1 Axes>"
      ]
     },
     "metadata": {
      "needs_background": "light"
     },
     "output_type": "display_data"
    }
   ],
   "source": [
    "# Learning rate decay shows up prominently\n",
    "\n",
    "plt.plot(torch.tensor(lossi).view(-1,1000).mean(dim = 1))"
   ]
  },
  {
   "cell_type": "code",
   "execution_count": 59,
   "id": "d3b8345e",
   "metadata": {},
   "outputs": [],
   "source": [
    "# put layers into eval mode (needed for batchnorm especially)\n",
    "for layer in layers:\n",
    "    layer.training = False"
   ]
  },
  {
   "cell_type": "code",
   "execution_count": 66,
   "id": "11ca0e96",
   "metadata": {},
   "outputs": [
    {
     "name": "stdout",
     "output_type": "stream",
     "text": [
      "train 1.9163438081741333\n",
      "val 2.034248113632202\n"
     ]
    }
   ],
   "source": [
    "# evaluate the loss\n",
    "@torch.no_grad() # this decorator disables gradient tracking inside pytorch\n",
    "def split_loss(split):\n",
    "    x,y = {\n",
    "    'train': (Xtr, Ytr),\n",
    "    'val': (Xdev, Ydev),\n",
    "    'test': (Xte, Yte),\n",
    "    }[split]\n",
    "    #Forward pass\n",
    "    emb = C[x] # embedd the characters into vectors\n",
    "    x = emb.view(emb.shape[0], -1) # changing the dimensions for matrix multiplication\n",
    "    for layer in layers:\n",
    "        x = layer(x)\n",
    "    loss = F.cross_entropy(x, y) # loss\n",
    "    print(split, loss.item())\n",
    "\n",
    "split_loss('train')\n",
    "split_loss('val')"
   ]
  },
  {
   "cell_type": "markdown",
   "id": "9c4f4cf3",
   "metadata": {},
   "source": [
    "#### Sample from the model"
   ]
  },
  {
   "cell_type": "code",
   "execution_count": 67,
   "id": "631fc73d",
   "metadata": {},
   "outputs": [
    {
     "name": "stdout",
     "output_type": "stream",
     "text": [
      "melae.\n",
      "lynn.\n",
      "gwesen.\n",
      "macoy.\n",
      "delia.\n",
      "chrelan.\n",
      "jaquin.\n",
      "dayana.\n",
      "haziyah.\n",
      "hamilin.\n",
      "dacy.\n",
      "grayman.\n",
      "abella.\n",
      "kaklyn.\n",
      "cash.\n",
      "hamby.\n",
      "dencelyuh.\n",
      "card.\n",
      "malizen.\n",
      "ronni.\n"
     ]
    }
   ],
   "source": [
    "# sample from the model\n",
    "for _ in range(20):\n",
    "    \n",
    "    out = []\n",
    "    context = [0] * block_size # initialize with all ...\n",
    "    while True:\n",
    "        # forward pass the neural net\n",
    "        emb = C[torch.tensor([context])] # embedd the characters into vectors\n",
    "        x = emb.view(emb.shape[0], -1) # changing the dimensions for matrix multiplication\n",
    "        for layer in layers:\n",
    "            x = layer(x)\n",
    "        logits = x\n",
    "        probs = F.softmax(logits, dim=1)\n",
    "        # sample from the distribution\n",
    "        ix = torch.multinomial(probs, num_samples=1).item()\n",
    "        # shift the context window and track the samples\n",
    "        context = context[1:] + [ix]\n",
    "        out.append(ix)\n",
    "        # if we sample the special '.' token, break\n",
    "        if ix == 0:\n",
    "            break\n",
    "    \n",
    "    print(''.join(itos[i] for i in out)) # decode and print the generated word"
   ]
  },
  {
   "cell_type": "markdown",
   "id": "f7a306ef",
   "metadata": {},
   "source": [
    "### Reducing more Boilerplate Code"
   ]
  },
  {
   "cell_type": "code",
   "execution_count": 70,
   "id": "8420a67c",
   "metadata": {},
   "outputs": [],
   "source": [
    "## Define the Linear Layer\n",
    "# -----------------------------------------------------------------------------------------------\n",
    "\n",
    "class Linear:\n",
    "    \n",
    "    def __init__(self, fan_in : int, fan_out : int, bias : bool = True):\n",
    "        self.weight = torch.randn((fan_in, fan_out))/fan_in**0.5 # note: kaiming init\n",
    "        self.bias = torch.zeros(fan_out) if bias else None\n",
    "    \n",
    "    ## Calculating the Forward Pass\n",
    "    def __call__(self, x):\n",
    "        \n",
    "        self.out = x @ self.weight\n",
    "        if self.bias is not None:\n",
    "            self.out += self.bias\n",
    "        return self.out\n",
    "        \n",
    "    def parameters(self):\n",
    "        \n",
    "        return [self.weight] + ([] if self.bias is None else [self.bias])\n",
    "    \n",
    "## Define the BatchNorm Layer\n",
    "# -----------------------------------------------------------------------------------------------\n",
    "\n",
    "class BatchNorm1d:\n",
    "    \n",
    "    def __init__(self, dim, eps=1e-5, momentum=0.1):\n",
    "        \n",
    "        self.eps = eps\n",
    "        self.momentum = momentum # Factor the weight of the contribution of running mean\n",
    "        self.training = True # Similar to pytorch\n",
    "        # parameters (trained with backprop)\n",
    "        self.gamma = torch.ones(dim)\n",
    "        self.beta = torch.zeros(dim)\n",
    "        # buffers (trained with a running 'momentum update')\n",
    "        self.running_mean = torch.zeros(dim)\n",
    "        self.running_var = torch.ones(dim)\n",
    "        \n",
    "    def __call__(self, x):\n",
    "        \n",
    "        ## Calutaing the Forward Pass\n",
    "        if self.training:\n",
    "            \n",
    "#             if x.ndim == 2:\n",
    "#                 dim = 0\n",
    "#             elif x.ndim == 3:\n",
    "#                 dim = (0,1)\n",
    "            \n",
    "            xmean = x.mean(0, keepdims = True)\n",
    "            xvar = x.var(0, keepdims = True)\n",
    "        else:\n",
    "            xmean, xvar = self.running_mean, self.running_var\n",
    "        \n",
    "        xhat = (x-xmean)/torch.sqrt(xvar + self.eps)\n",
    "        self.out = self.gamma*xhat + self.beta\n",
    "        \n",
    "        if self.training:\n",
    "            ## No need to backprop through running_mean or running_var\n",
    "            with torch.no_grad():\n",
    "                self.running_mean = (1-self.momentum)*self.running_mean + self.momentum*xmean\n",
    "                self.running_var = (1-self.momentum)*self.running_var + self.momentum*xvar\n",
    "                \n",
    "        return self.out\n",
    "        \n",
    "    def parameters(self):\n",
    "        \n",
    "        return [self.gamma, self.beta]\n",
    "    \n",
    "\n",
    "## Define the Embedding Layer\n",
    "# -----------------------------------------------------------------------------------------------\n",
    "\n",
    "class Embedding:\n",
    "    \n",
    "    def __init__(self, num_embeddings, embedding_dim):\n",
    "        \n",
    "        self.weight = torch.randn((num_embeddings, embedding_dim))\n",
    "    \n",
    "    def __call__(self, IX):\n",
    "        \n",
    "        self.out = self.weight[IX]\n",
    "        return self.out\n",
    "    \n",
    "    def parameters(self):\n",
    "        \n",
    "        return [self.weight]\n",
    "    \n",
    "\n",
    "## Define the Sequential Class : Multiple linear layers stacked together\n",
    "# -----------------------------------------------------------------------------------------------\n",
    "\n",
    "class Sequential:\n",
    "    \n",
    "    def __init__(self, layers):\n",
    "        \n",
    "        self.layers = layers\n",
    "        \n",
    "    def __call__(self, x):\n",
    "        \n",
    "        for layer in self.layers:\n",
    "            x = layer(x)\n",
    "            \n",
    "        self.out = x\n",
    "        return self.out\n",
    "    \n",
    "    def parameters(self):\n",
    "        \n",
    "        return [p for layer in self.layers for p in layer.parameters()]\n",
    "    \n",
    "## Define the Flatten Class: Change view of tensors\n",
    "# -----------------------------------------------------------------------------------------------\n",
    "\n",
    "class Flatten:\n",
    "    \n",
    "    def __call__(self, x):\n",
    "        \n",
    "        self.out = x.view(x.shape[0], -1)\n",
    "        return self.out\n",
    "    \n",
    "    def parameters(self):\n",
    "        \n",
    "        return []\n",
    "\n",
    "## Define the Tanh Layer\n",
    "# -----------------------------------------------------------------------------------------------\n",
    "\n",
    "class Tanh:\n",
    "    \n",
    "    def __call__(self, x):\n",
    "        self.out = torch.tanh(x)\n",
    "        return self.out\n",
    "    \n",
    "    def parameters(self):\n",
    "        return []\n",
    "        "
   ]
  },
  {
   "cell_type": "markdown",
   "id": "59953041",
   "metadata": {},
   "source": [
    "#### Defining the network "
   ]
  },
  {
   "cell_type": "code",
   "execution_count": 78,
   "id": "8494c922",
   "metadata": {},
   "outputs": [
    {
     "name": "stdout",
     "output_type": "stream",
     "text": [
      "22097\n"
     ]
    }
   ],
   "source": [
    "n_embd, n_hidden = 10, 200\n",
    "\n",
    "model = Sequential([Embedding(vocab_size, n_embd), Flatten(), Linear((n_embd*block_size), n_hidden, bias = False), BatchNorm1d(n_hidden), Tanh(), Linear(n_hidden, vocab_size, bias = True),])\n",
    "\n",
    "# Make the last Softmax Layer less Confident\n",
    "with torch.no_grad():\n",
    "    model.layers[-1].weight *= 0.1\n",
    "    \n",
    "parameters = [p for layer in model.layers for p in layer.parameters()]\n",
    "print(sum(p.nelement() for p in parameters))\n",
    "\n",
    "## Setting requires_grad\n",
    "for p in parameters:\n",
    "    p.requires_grad = True\n",
    "    \n"
   ]
  },
  {
   "cell_type": "markdown",
   "id": "c0f9a591",
   "metadata": {},
   "source": [
    "#### Training the network"
   ]
  },
  {
   "cell_type": "code",
   "execution_count": 79,
   "id": "c2102edf",
   "metadata": {},
   "outputs": [
    {
     "name": "stdout",
     "output_type": "stream",
     "text": [
      "      0/ 200000: 3.2821\n",
      "  10000/ 200000: 2.3583\n",
      "  20000/ 200000: 2.4325\n",
      "  30000/ 200000: 1.9561\n",
      "  40000/ 200000: 2.1812\n",
      "  50000/ 200000: 2.1122\n",
      "  60000/ 200000: 2.0685\n",
      "  70000/ 200000: 2.0697\n",
      "  80000/ 200000: 2.1763\n",
      "  90000/ 200000: 1.8765\n",
      " 100000/ 200000: 2.4572\n",
      " 110000/ 200000: 2.2537\n",
      " 120000/ 200000: 1.7612\n",
      " 130000/ 200000: 2.3858\n",
      " 140000/ 200000: 2.1563\n",
      " 150000/ 200000: 2.2024\n",
      " 160000/ 200000: 2.0269\n",
      " 170000/ 200000: 2.0685\n",
      " 180000/ 200000: 1.8371\n",
      " 190000/ 200000: 2.2245\n"
     ]
    }
   ],
   "source": [
    "# same optimization as last time\n",
    "max_steps = 200000\n",
    "batch_size = 32\n",
    "lossi = []\n",
    "\n",
    "for i in range(max_steps):\n",
    "    \n",
    "    # Construct the mini-batch\n",
    "    ix = torch.randint(0, Xtr.shape[0], (batch_size,))\n",
    "    Xb, Yb = Xtr[ix], Ytr[ix]\n",
    "    \n",
    "    #Forward pass\n",
    "    logits = model(Xb)\n",
    "    loss = F.cross_entropy(logits, Yb) # loss\n",
    "    \n",
    "    #Backward Pass\n",
    "    for p in parameters:\n",
    "        p.grad = None\n",
    "    loss.backward()\n",
    "    \n",
    "    # update: simple SGD\n",
    "    lr = 0.1 if i < 150000 else 0.01 # step learning rate decay\n",
    "    for p in parameters:\n",
    "        p.data += -lr * p.grad\n",
    "\n",
    "    # track stats\n",
    "    if i % 10000 == 0: # print every once in a while\n",
    "        print(f'{i:7d}/{max_steps:7d}: {loss.item():.4f}')\n",
    "    lossi.append(loss.log10().item())\n",
    "    \n",
    "    "
   ]
  },
  {
   "cell_type": "code",
   "execution_count": 80,
   "id": "3241d052",
   "metadata": {},
   "outputs": [
    {
     "data": {
      "text/plain": [
       "[<matplotlib.lines.Line2D at 0x2188c527408>]"
      ]
     },
     "execution_count": 80,
     "metadata": {},
     "output_type": "execute_result"
    },
    {
     "data": {
      "image/png": "[encoded data removed]",
      "text/plain": [
       "<Figure size 432x288 with 1 Axes>"
      ]
     },
     "metadata": {
      "needs_background": "light"
     },
     "output_type": "display_data"
    }
   ],
   "source": [
    "plt.plot(torch.tensor(lossi).view(-1, 1000).mean(1))"
   ]
  },
  {
   "cell_type": "code",
   "execution_count": 81,
   "id": "5b05e7f5",
   "metadata": {},
   "outputs": [],
   "source": [
    "# put layers into eval mode (needed for batchnorm especially)\n",
    "for layer in model.layers:\n",
    "    layer.training = False"
   ]
  },
  {
   "cell_type": "markdown",
   "id": "68474049",
   "metadata": {},
   "source": [
    "#### Evaluate dev and train loss"
   ]
  },
  {
   "cell_type": "code",
   "execution_count": 82,
   "id": "2e24a719",
   "metadata": {},
   "outputs": [
    {
     "name": "stdout",
     "output_type": "stream",
     "text": [
      "train 1.920302391052246\n",
      "val 2.0265724658966064\n"
     ]
    }
   ],
   "source": [
    "# evaluate the loss\n",
    "@torch.no_grad() # this decorator disables gradient tracking inside pytorch\n",
    "def split_loss(split):\n",
    "    x,y = {\n",
    "    'train': (Xtr, Ytr),\n",
    "    'val': (Xdev, Ydev),\n",
    "    'test': (Xte, Yte),\n",
    "    }[split]\n",
    "    logits = model(x)\n",
    "    loss = F.cross_entropy(logits, y)\n",
    "    print(split, loss.item())\n",
    "\n",
    "split_loss('train')\n",
    "split_loss('val')"
   ]
  },
  {
   "cell_type": "markdown",
   "id": "6d8173fb",
   "metadata": {},
   "source": [
    "#### Sample from the model"
   ]
  },
  {
   "cell_type": "code",
   "execution_count": 83,
   "id": "9f58310f",
   "metadata": {},
   "outputs": [
    {
     "name": "stdout",
     "output_type": "stream",
     "text": [
      "keamyr.\n",
      "khalix.\n",
      "bingermuns.\n",
      "renilio.\n",
      "lehan.\n",
      "bright.\n",
      "rizana.\n",
      "garkens.\n",
      "ilemar.\n",
      "xhava.\n",
      "imaylyn.\n",
      "gracyne.\n",
      "leselon.\n",
      "aphiduge.\n",
      "mikalai.\n",
      "michaely.\n",
      "arrilyn.\n",
      "serii.\n",
      "aulyn.\n",
      "kaylin.\n"
     ]
    }
   ],
   "source": [
    "# sample from the model\n",
    "for _ in range(20):\n",
    "    \n",
    "    out = []\n",
    "    context = [0] * block_size # initialize with all ...\n",
    "    while True:\n",
    "        # forward pass the neural net\n",
    "        logits = model(torch.tensor([context]))\n",
    "        probs = F.softmax(logits, dim=1)\n",
    "        # sample from the distribution\n",
    "        ix = torch.multinomial(probs, num_samples=1).item()\n",
    "        # shift the context window and track the samples\n",
    "        context = context[1:] + [ix]\n",
    "        out.append(ix)\n",
    "        # if we sample the special '.' token, break\n",
    "        if ix == 0:\n",
    "            break\n",
    "    \n",
    "    print(''.join(itos[i] for i in out)) # decode and print the generated word"
   ]
  },
  {
   "cell_type": "code",
   "execution_count": null,
   "id": "c8cec644",
   "metadata": {},
   "outputs": [],
   "source": []
  }
 ],
 "metadata": {
  "kernelspec": {
   "display_name": "Python 3",
   "language": "python",
   "name": "python3"
  },
  "language_info": {
   "codemirror_mode": {
    "name": "ipython",
    "version": 3
   },
   "file_extension": ".py",
   "mimetype": "text/x-python",
   "name": "python",
   "nbconvert_exporter": "python",
   "pygments_lexer": "ipython3",
   "version": "3.7.10"
  }
 },
 "nbformat": 4,
 "nbformat_minor": 5
}
